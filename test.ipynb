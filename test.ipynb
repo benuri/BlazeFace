{
 "cells": [
  {
   "cell_type": "code",
   "execution_count": 1,
   "metadata": {},
   "outputs": [],
   "source": [
    "from pandas import read_csv\n",
    "import cv2\n",
    "import glob\n",
    "import os\n",
    "import numpy as np\n",
    "import logging\n",
    "import coloredlogs\n",
    "logger = logging.getLogger(__name__)\n",
    "coloredlogs.install(level='DEBUG')\n",
    "coloredlogs.install(level='DEBUG', logger=logger)"
   ]
  },
  {
   "cell_type": "code",
   "execution_count": 2,
   "metadata": {},
   "outputs": [],
   "source": [
    "IM_EXTENSIONS = ['png', 'jpg', 'jpeg', 'bmp']"
   ]
  },
  {
   "cell_type": "code",
   "execution_count": 3,
   "metadata": {},
   "outputs": [],
   "source": [
    "def read_img(img_path, img_shape=(128, 128)):\n",
    "    \"\"\"\n",
    "    load image file and divide by 255.\n",
    "    \"\"\"\n",
    "    img = cv2.imread(img_path)\n",
    "    img = cv2.resize(img, img_shape)\n",
    "    img = img.astype('float')\n",
    "    img /= 255.\n",
    "\n",
    "    return img"
   ]
  },
  {
   "cell_type": "code",
   "execution_count": 115,
   "metadata": {},
   "outputs": [],
   "source": [
    "dataset_dir = './data/images/'\n",
    "label_path = './data/label.csv'\n",
    "batch_size=32,\n",
    "img_shape=(128, 128)"
   ]
  },
  {
   "cell_type": "code",
   "execution_count": 116,
   "metadata": {},
   "outputs": [],
   "source": [
    "label_df = read_csv(label_path)\n",
    "# img_files = glob.glob(dataset_dir + '*')\n",
    "# img_files = [f for f in img_files if f[-3:] in IM_EXTENSIONS]\n",
    "\n",
    "label_idx = label_df.set_index('filename')\n",
    "img_files = label_idx.index.unique().values"
   ]
  },
  {
   "cell_type": "code",
   "execution_count": 117,
   "metadata": {},
   "outputs": [
    {
     "data": {
      "text/html": [
       "<div>\n",
       "<style scoped>\n",
       "    .dataframe tbody tr th:only-of-type {\n",
       "        vertical-align: middle;\n",
       "    }\n",
       "\n",
       "    .dataframe tbody tr th {\n",
       "        vertical-align: top;\n",
       "    }\n",
       "\n",
       "    .dataframe thead th {\n",
       "        text-align: right;\n",
       "    }\n",
       "</style>\n",
       "<table border=\"1\" class=\"dataframe\">\n",
       "  <thead>\n",
       "    <tr style=\"text-align: right;\">\n",
       "      <th></th>\n",
       "      <th>xmin</th>\n",
       "      <th>ymin</th>\n",
       "      <th>xmax</th>\n",
       "      <th>ymax</th>\n",
       "      <th>class</th>\n",
       "    </tr>\n",
       "    <tr>\n",
       "      <th>filename</th>\n",
       "      <th></th>\n",
       "      <th></th>\n",
       "      <th></th>\n",
       "      <th></th>\n",
       "      <th></th>\n",
       "    </tr>\n",
       "  </thead>\n",
       "  <tbody>\n",
       "    <tr>\n",
       "      <th>0_Parade_Parade_0_628.jpg</th>\n",
       "      <td>26</td>\n",
       "      <td>299</td>\n",
       "      <td>36</td>\n",
       "      <td>315</td>\n",
       "      <td>face</td>\n",
       "    </tr>\n",
       "    <tr>\n",
       "      <th>0_Parade_Parade_0_628.jpg</th>\n",
       "      <td>25</td>\n",
       "      <td>329</td>\n",
       "      <td>32</td>\n",
       "      <td>340</td>\n",
       "      <td>face</td>\n",
       "    </tr>\n",
       "    <tr>\n",
       "      <th>0_Parade_Parade_0_628.jpg</th>\n",
       "      <td>84</td>\n",
       "      <td>341</td>\n",
       "      <td>90</td>\n",
       "      <td>349</td>\n",
       "      <td>face</td>\n",
       "    </tr>\n",
       "    <tr>\n",
       "      <th>0_Parade_Parade_0_628.jpg</th>\n",
       "      <td>80</td>\n",
       "      <td>329</td>\n",
       "      <td>85</td>\n",
       "      <td>335</td>\n",
       "      <td>face</td>\n",
       "    </tr>\n",
       "    <tr>\n",
       "      <th>0_Parade_Parade_0_628.jpg</th>\n",
       "      <td>110</td>\n",
       "      <td>335</td>\n",
       "      <td>114</td>\n",
       "      <td>344</td>\n",
       "      <td>face</td>\n",
       "    </tr>\n",
       "  </tbody>\n",
       "</table>\n",
       "</div>"
      ],
      "text/plain": [
       "                           xmin  ymin  xmax  ymax class\n",
       "filename                                               \n",
       "0_Parade_Parade_0_628.jpg    26   299    36   315  face\n",
       "0_Parade_Parade_0_628.jpg    25   329    32   340  face\n",
       "0_Parade_Parade_0_628.jpg    84   341    90   349  face\n",
       "0_Parade_Parade_0_628.jpg    80   329    85   335  face\n",
       "0_Parade_Parade_0_628.jpg   110   335   114   344  face"
      ]
     },
     "execution_count": 117,
     "metadata": {},
     "output_type": "execute_result"
    }
   ],
   "source": [
    "label_idx.loc['0_Parade_Parade_0_628.jpg'].head()"
   ]
  },
  {
   "cell_type": "code",
   "execution_count": 118,
   "metadata": {},
   "outputs": [
    {
     "data": {
      "text/html": [
       "<div>\n",
       "<style scoped>\n",
       "    .dataframe tbody tr th:only-of-type {\n",
       "        vertical-align: middle;\n",
       "    }\n",
       "\n",
       "    .dataframe tbody tr th {\n",
       "        vertical-align: top;\n",
       "    }\n",
       "\n",
       "    .dataframe thead th {\n",
       "        text-align: right;\n",
       "    }\n",
       "</style>\n",
       "<table border=\"1\" class=\"dataframe\">\n",
       "  <thead>\n",
       "    <tr style=\"text-align: right;\">\n",
       "      <th></th>\n",
       "      <th>xmin</th>\n",
       "      <th>ymin</th>\n",
       "      <th>xmax</th>\n",
       "      <th>ymax</th>\n",
       "      <th>class</th>\n",
       "    </tr>\n",
       "    <tr>\n",
       "      <th>filename</th>\n",
       "      <th></th>\n",
       "      <th></th>\n",
       "      <th></th>\n",
       "      <th></th>\n",
       "      <th></th>\n",
       "    </tr>\n",
       "  </thead>\n",
       "  <tbody>\n",
       "    <tr>\n",
       "      <th>0_Parade_Parade_0_628.jpg</th>\n",
       "      <td>26</td>\n",
       "      <td>299</td>\n",
       "      <td>36</td>\n",
       "      <td>315</td>\n",
       "      <td>face</td>\n",
       "    </tr>\n",
       "    <tr>\n",
       "      <th>0_Parade_Parade_0_628.jpg</th>\n",
       "      <td>25</td>\n",
       "      <td>329</td>\n",
       "      <td>32</td>\n",
       "      <td>340</td>\n",
       "      <td>face</td>\n",
       "    </tr>\n",
       "    <tr>\n",
       "      <th>0_Parade_Parade_0_628.jpg</th>\n",
       "      <td>84</td>\n",
       "      <td>341</td>\n",
       "      <td>90</td>\n",
       "      <td>349</td>\n",
       "      <td>face</td>\n",
       "    </tr>\n",
       "    <tr>\n",
       "      <th>0_Parade_Parade_0_628.jpg</th>\n",
       "      <td>80</td>\n",
       "      <td>329</td>\n",
       "      <td>85</td>\n",
       "      <td>335</td>\n",
       "      <td>face</td>\n",
       "    </tr>\n",
       "    <tr>\n",
       "      <th>0_Parade_Parade_0_628.jpg</th>\n",
       "      <td>110</td>\n",
       "      <td>335</td>\n",
       "      <td>114</td>\n",
       "      <td>344</td>\n",
       "      <td>face</td>\n",
       "    </tr>\n",
       "  </tbody>\n",
       "</table>\n",
       "</div>"
      ],
      "text/plain": [
       "                           xmin  ymin  xmax  ymax class\n",
       "filename                                               \n",
       "0_Parade_Parade_0_628.jpg    26   299    36   315  face\n",
       "0_Parade_Parade_0_628.jpg    25   329    32   340  face\n",
       "0_Parade_Parade_0_628.jpg    84   341    90   349  face\n",
       "0_Parade_Parade_0_628.jpg    80   329    85   335  face\n",
       "0_Parade_Parade_0_628.jpg   110   335   114   344  face"
      ]
     },
     "execution_count": 118,
     "metadata": {},
     "output_type": "execute_result"
    }
   ],
   "source": [
    "label_idx.iloc[0:5]"
   ]
  },
  {
   "cell_type": "code",
   "execution_count": 119,
   "metadata": {},
   "outputs": [
    {
     "data": {
      "text/plain": [
       "2989"
      ]
     },
     "execution_count": 119,
     "metadata": {},
     "output_type": "execute_result"
    }
   ],
   "source": [
    "len(img_files)"
   ]
  },
  {
   "cell_type": "code",
   "execution_count": 120,
   "metadata": {},
   "outputs": [],
   "source": [
    "def append_zero(arr):\n",
    "    return np.append([0], arr)"
   ]
  },
  {
   "cell_type": "code",
   "execution_count": 121,
   "metadata": {},
   "outputs": [],
   "source": [
    "# temp = label_idx.loc[img_files[0]].values[:, :4] #[0, 26, 299, 36, 315]\n",
    "# np.apply_along_axis(append_zero, 1, temp)"
   ]
  },
  {
   "cell_type": "code",
   "execution_count": null,
   "metadata": {},
   "outputs": [],
   "source": []
  },
  {
   "cell_type": "code",
   "execution_count": 194,
   "metadata": {},
   "outputs": [
    {
     "name": "stdout",
     "output_type": "stream",
     "text": [
      "[[0 244 104 306 191]\n",
      " [0 317 425 381 501]\n",
      " [0 490 313 558 406]\n",
      " [0 641 90 702 157]]\n"
     ]
    }
   ],
   "source": [
    "\"\"\"\n",
    "data loader\n",
    "\n",
    "return image, [class_label, class_and_location_label]\n",
    "\"\"\"\n",
    "\n",
    "numofData = len(img_files)  # endwiths(png,jpg ...)\n",
    "data_idx = np.arange(numofData)\n",
    "\n",
    "while True:\n",
    "    batch_idx = np.random.choice(data_idx, size=batch_size, replace=False)\n",
    "\n",
    "    batch_img = []\n",
    "    batch_label = []\n",
    "    batch_label_cls = []\n",
    "\n",
    "    for i in batch_idx:\n",
    "\n",
    "        img = read_img(dataset_dir + img_files[i], img_shape=img_shape)\n",
    "        label_idx = label_df.set_index('filename')\n",
    "        img_files = label_idx.index.unique().values\n",
    "        label = label_idx.loc[img_files[i]].values\n",
    "        label = np.array(label, ndmin=2)\n",
    "        label = label[:, :4]\n",
    "        cls_loc_label = np.apply_along_axis(append_zero, 1, label)\n",
    "        batch_img.append(img)\n",
    "        batch_label.append(label)\n",
    "        batch_label_cls.append(0)  # label[0:1]) ---> face\n",
    "#     yield ({'input_1': np.array(batch_img, dtype=np.float32)},\n",
    "#            {'clf_output': np.array(batch_label_cls, dtype=np.float32),\n",
    "#                          'bb_output': np.array(batch_label, dtype=np.float32)})\n"
   ]
  },
  {
   "cell_type": "code",
   "execution_count": 310,
   "metadata": {},
   "outputs": [],
   "source": [
    "import tensorflow as tf"
   ]
  },
  {
   "cell_type": "code",
   "execution_count": 469,
   "metadata": {},
   "outputs": [],
   "source": [
    "def dataloader(dataset_dir, label_path,  batch_size=1000, img_shape=(128, 128)):\n",
    "    \"\"\"\n",
    "    data loader\n",
    "\n",
    "    return image, [class_label, class_and_location_label]\n",
    "    \"\"\"\n",
    "\n",
    "    label_df = read_csv(label_path)\n",
    "    label_idx = label_df.set_index('filename')\n",
    "    img_files = label_idx.index.unique().values\n",
    "\n",
    "    numofData = len(img_files)  # endwiths(png,jpg ...)\n",
    "    data_idx = np.arange(numofData)\n",
    "\n",
    "    while True:\n",
    "        batch_idx = np.random.choice(data_idx, size=batch_size, replace=False)\n",
    "\n",
    "        batch_img = []\n",
    "        batch_label = []\n",
    "        batch_class = []\n",
    "\n",
    "        for i in batch_idx:\n",
    "\n",
    "            img = read_img(dataset_dir + img_files[i], img_shape=img_shape)\n",
    "\n",
    "            label = label_idx.loc[img_files[i]].values\n",
    "            label = np.array(label, ndmin=2)\n",
    "            label = label[:, :4]\n",
    "\n",
    "            cls_loc_label = np.apply_along_axis(append_zero, 1, label)\n",
    "\n",
    "            batch_img.append(img)\n",
    "            batch_label.append(cls_loc_label)   # face + bb\n",
    "            batch_class.append(cls_loc_label[:, 0:1])  # label[:, 0:1]) ---> face\n",
    "\n",
    "#         yield {'input_1': np.array(batch_img, dtype=np.float32)}, {'clf_output': np.array(batch_class, dtype=np.float32),'bb_output': np.array(batch_label, dtype=np.float32)}\n",
    "            \n",
    "        yield np.array(batch_img, dtype=np.float32), [np.array(batch_class, dtype=np.float32), np.array(batch_label, dtype=np.float32)]"
   ]
  },
  {
   "cell_type": "code",
   "execution_count": 470,
   "metadata": {},
   "outputs": [],
   "source": [
    "data_gen = dataloader(dataset_dir, label_path,  batch_size=1, img_shape=(128, 128))"
   ]
  },
  {
   "cell_type": "code",
   "execution_count": 471,
   "metadata": {},
   "outputs": [],
   "source": [
    "data = next(data_gen)"
   ]
  },
  {
   "cell_type": "code",
   "execution_count": 472,
   "metadata": {},
   "outputs": [
    {
     "data": {
      "text/plain": [
       "2"
      ]
     },
     "execution_count": 472,
     "metadata": {},
     "output_type": "execute_result"
    }
   ],
   "source": [
    "len(data)"
   ]
  },
  {
   "cell_type": "code",
   "execution_count": null,
   "metadata": {},
   "outputs": [],
   "source": []
  }
 ],
 "metadata": {
  "kernelspec": {
   "display_name": "Python 3",
   "language": "python",
   "name": "python3"
  },
  "language_info": {
   "codemirror_mode": {
    "name": "ipython",
    "version": 3
   },
   "file_extension": ".py",
   "mimetype": "text/x-python",
   "name": "python",
   "nbconvert_exporter": "python",
   "pygments_lexer": "ipython3",
   "version": "3.6.9"
  }
 },
 "nbformat": 4,
 "nbformat_minor": 4
}
